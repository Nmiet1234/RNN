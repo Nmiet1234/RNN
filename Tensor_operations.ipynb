{
  "nbformat": 4,
  "nbformat_minor": 0,
  "metadata": {
    "colab": {
      "provenance": [],
      "gpuType": "T4",
      "authorship_tag": "ABX9TyOTIPWQTTLNszwRouJ4sKWw",
      "include_colab_link": true
    },
    "kernelspec": {
      "name": "python3",
      "display_name": "Python 3"
    },
    "language_info": {
      "name": "python"
    },
    "accelerator": "GPU"
  },
  "cells": [
    {
      "cell_type": "markdown",
      "metadata": {
        "id": "view-in-github",
        "colab_type": "text"
      },
      "source": [
        "<a href=\"https://colab.research.google.com/github/Nmiet1234/RNN/blob/main/Tensor_operations.ipynb\" target=\"_parent\"><img src=\"https://colab.research.google.com/assets/colab-badge.svg\" alt=\"Open In Colab\"/></a>"
      ]
    },
    {
      "cell_type": "code",
      "source": [
        "import torch\n",
        "\n",
        "print(torch.__version__)\n",
        "print(torch.cuda.is_available())\n"
      ],
      "metadata": {
        "colab": {
          "base_uri": "https://localhost:8080/"
        },
        "id": "71SAdQUK1snc",
        "outputId": "62fa334f-8f1a-4958-952a-79935adb2b71"
      },
      "execution_count": 1,
      "outputs": [
        {
          "output_type": "stream",
          "name": "stdout",
          "text": [
            "2.6.0+cu124\n",
            "True\n"
          ]
        }
      ]
    },
    {
      "cell_type": "markdown",
      "source": [
        "Creating Tensor CPU example"
      ],
      "metadata": {
        "id": "c9iU_kkh3d86"
      }
    },
    {
      "source": [
        "# Import the PyTorch library. This library provides tools for working with tensors\n",
        "# and building deep learning models. Think of it as a toolbox specifically\n",
        "# designed for tasks like image recognition or natural language processing.\n",
        "import torch\n",
        "\n",
        "# Create the first tensor named 'first_tens'.\n",
        "# A tensor is like a multi-dimensional array that can hold numbers.\n",
        "# In this case, we are creating a 2x4 tensor, which means it has 2 rows and 4 columns.\n",
        "# The numbers inside the double square brackets represent the values in the tensor.\n",
        "first_tens = torch.tensor([[12, 10, 11, 9], [13, 15, 14, 16]])\n",
        "\n",
        "# Create the second tensor named 'second_tens'.\n",
        "# This tensor also has 2 rows and 4 columns, just like 'first_tens'.\n",
        "# It's filled with different numbers.\n",
        "second_tens = torch.tensor([[1, 2, 3, 4], [5, 6, 7, 8]])\n",
        "\n",
        "# Now, let's add the two tensors together.\n",
        "# This operation is called element-wise addition, which means corresponding elements\n",
        "# in 'first_tens' and 'second_tens' are added together.\n",
        "# For example, the first element in 'first_tens' (12) is added to the first element\n",
        "# in 'second_tens' (1), resulting in 13. This is done for all elements in the tensors.\n",
        "# The result of this addition is stored in a new tensor called 'add_tens'.\n",
        "add_tens = first_tens + second_tens\n",
        "\n",
        "# Let's see what the result looks like!\n",
        "# This line prints the content of the 'add_tens' tensor, showing the outcome of the addition.\n",
        "print(add_tens)\n",
        "\n",
        "# We can also find out the size (dimensions) of the 'add_tens' tensor.\n",
        "# This line prints the shape of the tensor, which in this case will be 2x4\n",
        "# (2 rows and 4 columns).\n",
        "print(add_tens.size())"
      ],
      "cell_type": "code",
      "metadata": {
        "colab": {
          "base_uri": "https://localhost:8080/"
        },
        "id": "McudfkWK3a-q",
        "outputId": "1712361a-81c8-4d93-c095-4ee332f8485f"
      },
      "execution_count": 2,
      "outputs": [
        {
          "output_type": "stream",
          "name": "stdout",
          "text": [
            "tensor([[13, 12, 14, 13],\n",
            "        [18, 21, 21, 24]])\n",
            "torch.Size([2, 4])\n"
          ]
        }
      ]
    },
    {
      "cell_type": "code",
      "source": [
        "sub_tens = first_tens - second_tens\n",
        "print(sub_tens)\n",
        "print(sub_tens.size())"
      ],
      "metadata": {
        "colab": {
          "base_uri": "https://localhost:8080/"
        },
        "id": "TEEcggdj3kga",
        "outputId": "82840d0a-befb-4d95-c56b-fdf8e34fe9e9"
      },
      "execution_count": null,
      "outputs": [
        {
          "output_type": "stream",
          "name": "stdout",
          "text": [
            "tensor([[11,  8,  8,  5],\n",
            "        [ 8,  9,  7,  8]])\n",
            "torch.Size([2, 4])\n"
          ]
        }
      ]
    },
    {
      "cell_type": "markdown",
      "source": [
        "Creating tensors GPU example"
      ],
      "metadata": {
        "id": "m3t7P1Lt4B9i"
      }
    },
    {
      "source": [
        "# Import the PyTorch library. This library provides tools for working with tensors\n",
        "# and building deep learning models. Think of it as a toolbox specifically\n",
        "# designed for tasks like image recognition or natural language processing.\n",
        "import torch\n",
        "\n",
        "# Print the version of PyTorch that is installed. This is useful for ensuring\n",
        "# compatibility and reproducibility, as different PyTorch versions might have\n",
        "# slightly different behaviors or functionalities.\n",
        "print(torch.__version__)\n",
        "\n",
        "# Check if a compatible NVIDIA GPU is available for computations.\n",
        "# If a GPU is available, it assigns the string \"cuda\" to the 'device' variable,\n",
        "# indicating that computations should be performed on the GPU.\n",
        "# If a GPU is not available, it assigns \"cpu\" to the 'device' variable,\n",
        "# indicating that computations should be performed on the CPU.\n",
        "if torch.cuda.is_available():\n",
        "    device = \"cuda\"\n",
        "else:\n",
        "    device = \"cpu\"\n",
        "\n",
        "# Print the chosen device (\"cuda\" for GPU or \"cpu\" for CPU).\n",
        "# This helps confirm where the computations will be executed.\n",
        "print(device)\n",
        "\n",
        "# Create the first tensor named 'tens_a'. A tensor is like a multi-dimensional array\n",
        "# that can hold numbers. This tensor has 2 rows and 4 columns,\n",
        "# and it is filled with the specified values.\n",
        "# The 'device=device' argument ensures that the tensor is created on the chosen device\n",
        "# (either GPU or CPU).\n",
        "tens_a = torch.tensor([[10, 11, 12, 13], [14, 15, 16, 17]], device=device)\n",
        "\n",
        "# Create the second tensor named 'tens_b' with similar dimensions and values.\n",
        "# It is also placed on the chosen device.\n",
        "tens_b = torch.tensor([[18, 19, 20, 21], [22, 23, 24, 25]], device=device)\n",
        "\n",
        "# Perform element-wise multiplication between 'tens_a' and 'tens_b'.\n",
        "# This means that corresponding elements in the two tensors are multiplied together.\n",
        "# The result is stored in a new tensor called 'multi_tens'.\n",
        "multi_tens = tens_a * tens_b\n",
        "\n",
        "# Print the content of 'multi_tens', showing the outcome of the multiplication.\n",
        "print(multi_tens)"
      ],
      "cell_type": "code",
      "metadata": {
        "colab": {
          "base_uri": "https://localhost:8080/"
        },
        "id": "koy4NgWS49uf",
        "outputId": "b4cabb75-7de3-4bf6-e77d-51136e48e808"
      },
      "execution_count": 3,
      "outputs": [
        {
          "output_type": "stream",
          "name": "stdout",
          "text": [
            "2.6.0+cu124\n",
            "cuda\n",
            "tensor([[180, 209, 240, 273],\n",
            "        [308, 345, 384, 425]], device='cuda:0')\n"
          ]
        }
      ]
    },
    {
      "cell_type": "markdown",
      "source": [
        "Moving Tensors Between CPUs and GPUs"
      ],
      "metadata": {
        "id": "EYJ_HQGp5QZJ"
      }
    },
    {
      "source": [
        "# Import the PyTorch library. This library is essential for working with tensors\n",
        "# and building deep learning models in Python.\n",
        "import torch\n",
        "\n",
        "# Create a PyTorch tensor named 'x'.\n",
        "# A tensor is a fundamental data structure in PyTorch used to store and manipulate numerical data.\n",
        "# It's similar to a multi-dimensional array (like a NumPy array).\n",
        "# This tensor is initialized with the values [5, 10, 15, 10, 25].\n",
        "x = torch.tensor([5, 10, 15, 10, 25])\n",
        "\n",
        "# Print the content of the tensor 'x' to the console.\n",
        "# This will display the values stored in the tensor.\n",
        "print(\"Tensor:\", x)\n",
        "\n",
        "# Check and print the device where the tensor 'x' is currently stored.\n",
        "# By default, tensors are created on the CPU (Central Processing Unit).\n",
        "# The 'device' attribute of a tensor indicates its location (CPU or GPU).\n",
        "print(\"Tensor device:\", x.device)\n",
        "\n",
        "# Check if a CUDA-enabled GPU is available on your system.\n",
        "# CUDA is a parallel computing platform and programming model developed by NVIDIA.\n",
        "# PyTorch can utilize GPUs for faster computations, especially in deep learning tasks.\n",
        "# torch.cuda.is_available() returns True if a compatible GPU is found, otherwise False.\n",
        "print(\"CUDA GPU:\", torch.cuda.is_available())\n",
        "\n",
        "# If a CUDA GPU is available, move the tensor 'x' to the GPU.\n",
        "if torch.cuda.is_available():\n",
        "    # x.to(\"cuda:0\") moves the tensor to the first GPU (index 0).\n",
        "    # If you have multiple GPUs, you can change the index to select a different GPU.\n",
        "    x = x.to(\"cuda:0\")\n",
        "    # Alternatively, you can use x.to(\"cuda\") to move the tensor to the default GPU.\n",
        "\n",
        "    # Print the content of the tensor 'x' after moving it to the GPU.\n",
        "    # This might show the GPU location where the tensor is now stored.\n",
        "    print(x)\n",
        "\n",
        "# Check and print the device of the tensor 'x' again.\n",
        "# If it was successfully moved to the GPU, it will now show \"cuda:0\" (or \"cuda\").\n",
        "# If not, it will still indicate \"cpu\".\n",
        "print(\"Tensor device:\", x.device)"
      ],
      "cell_type": "code",
      "metadata": {
        "colab": {
          "base_uri": "https://localhost:8080/"
        },
        "id": "mPkjL0nv6Abb",
        "outputId": "2f3f723a-2049-4449-f07f-583ea13512db"
      },
      "execution_count": null,
      "outputs": [
        {
          "output_type": "stream",
          "name": "stdout",
          "text": [
            "Tensor: tensor([ 5, 10, 15, 10, 25])\n",
            "Tensor device: cpu\n",
            "CUDA GPU: False\n",
            "Tensor device: cpu\n"
          ]
        }
      ]
    },
    {
      "cell_type": "markdown",
      "source": [
        "Different ways to create tensors"
      ],
      "metadata": {
        "id": "DaUwuCEK6I5t"
      }
    },
    {
      "source": [
        "# Import the PyTorch library for working with tensors.\n",
        "import torch\n",
        "\n",
        "# Import the NumPy library for numerical computations and arrays.\n",
        "import numpy as np\n",
        "\n",
        "# Create a tensor from a Python list.\n",
        "# torch.tensor() is used to create a tensor from various data structures.\n",
        "tensor_from_list = torch.tensor([1, 2, 3, 4, 5])\n",
        "\n",
        "# Create a tensor from a Python tuple.\n",
        "tensor_from_tuple = torch.tensor((6, 7, 8, 9, 10))\n",
        "\n",
        "# Print the tensor created from the list.\n",
        "print(\"Tensor from list:\", tensor_from_list)\n",
        "\n",
        "# Print the tensor created from the tuple.\n",
        "print(\"Tensor from tuple:\", tensor_from_tuple)\n",
        "\n",
        "# Create a tensor from a NumPy ndarray.\n",
        "# np.array() is used to create a NumPy array.\n",
        "tensor_from_array = torch.tensor(np.array([11, 12, 13, 14, 15]))\n",
        "\n",
        "# Print the tensor created from the NumPy array.\n",
        "print(\"Tensor from array:\", tensor_from_array)"
      ],
      "cell_type": "code",
      "metadata": {
        "colab": {
          "base_uri": "https://localhost:8080/"
        },
        "id": "9eb3EgZf7VKB",
        "outputId": "cfc5322a-4cea-4b94-8cdd-0468e69b7695"
      },
      "execution_count": null,
      "outputs": [
        {
          "output_type": "stream",
          "name": "stdout",
          "text": [
            "Tensor from list: tensor([1, 2, 3, 4, 5])\n",
            "Tensor from tuple: tensor([ 6,  7,  8,  9, 10])\n",
            "Tensor from array: tensor([11, 12, 13, 14, 15])\n"
          ]
        }
      ]
    },
    {
      "cell_type": "markdown",
      "source": [
        "Different functions for creating tensors:"
      ],
      "metadata": {
        "id": "ounjyWSu7f8D"
      }
    },
    {
      "source": [
        "# Import the PyTorch library. This is the fundamental library for working with tensors in Python.\n",
        "import torch\n",
        "\n",
        "# Create an empty tensor with dimensions 3x4.\n",
        "# torch.empty() allocates memory for the tensor but doesn't initialize its values.\n",
        "# The tensor will contain whatever garbage data was already in that memory location.\n",
        "tensor_emp = torch.empty(3, 4)\n",
        "print(\"tensor_emp :\", tensor_emp)  # Print the content of the empty tensor.\n",
        "\n",
        "# Create a tensor filled with zeros, with dimensions 3x4.\n",
        "# torch.zeros() creates a tensor and initializes all its elements to 0.\n",
        "tensor_zeros = torch.zeros(3, 4)\n",
        "print(\"tensor_zeros :\", tensor_zeros)  # Print the content of the zero tensor.\n",
        "\n",
        "# Create a tensor filled with ones, with dimensions 3x4.\n",
        "# torch.ones() creates a tensor and initializes all its elements to 1.\n",
        "tensor_ones = torch.ones(3, 4)\n",
        "print(\"tensor_ones :\", tensor_ones)  # Print the content of the ones tensor.\n",
        "\n",
        "# --- Creating tensors with random values ---\n",
        "\n",
        "# Create a tensor with dimensions 4x5, filled with random numbers from a uniform distribution.\n",
        "# torch.rand() generates random numbers between 0 and 1 (exclusive) for each element.\n",
        "tensor_rand_un = torch.rand(4, 5)\n",
        "print(\"tensor_rand_un :\", tensor_rand_un)  # Print the content of the random uniform tensor.\n",
        "\n",
        "# Create a tensor with dimensions 4x5, filled with random numbers from a normal distribution.\n",
        "# torch.randn() generates random numbers from a standard normal distribution (mean 0, variance 1).\n",
        "tensor_rand_norm = torch.randn(4, 5)\n",
        "print(\"tensor_rand_norm :\", tensor_rand_norm)  # Print the content of the random normal tensor.\n",
        "\n",
        "# Create a tensor with dimensions 4x5, filled with random integers.\n",
        "# torch.randint() generates random integers between a specified low (inclusive) and high (exclusive) value.\n",
        "# In this case, integers will be between 5 (inclusive) and 10 (exclusive).\n",
        "tensor_rand_int = torch.randint(5, 10, (4, 5))\n",
        "print(\"tensor_rand_int :\", tensor_rand_int)  # Print the content of the random integer tensor.\n",
        "\n",
        "# --- Creating a tensor of ones with the same shape as another tensor ---\n",
        "\n",
        "# Create a tensor filled with ones, having the same shape as tensor_rand_int.\n",
        "# torch.ones_like() creates a tensor of ones with the same dimensions as the input tensor.\n",
        "tensor_ones = torch.ones_like(tensor_rand_int)\n",
        "print(tensor_ones)  # Print the content of the ones tensor (same shape as tensor_rand_int)."
      ],
      "cell_type": "code",
      "metadata": {
        "colab": {
          "base_uri": "https://localhost:8080/"
        },
        "id": "C8vrvYiJ8WZt",
        "outputId": "85ab7e36-9d19-4281-dce1-0447da834abf"
      },
      "execution_count": null,
      "outputs": [
        {
          "output_type": "stream",
          "name": "stdout",
          "text": [
            "tensor_emp : tensor([[6.8177e-12, 4.5454e-41, 6.6580e-12, 4.5454e-41],\n",
            "        [1.5081e-38, 0.0000e+00, 6.6580e-12, 4.5454e-41],\n",
            "        [6.6579e-12, 4.5454e-41, 1.1351e-43, 0.0000e+00]])\n",
            "tensor_zeros : tensor([[0., 0., 0., 0.],\n",
            "        [0., 0., 0., 0.],\n",
            "        [0., 0., 0., 0.]])\n",
            "tensor_ones : tensor([[1., 1., 1., 1.],\n",
            "        [1., 1., 1., 1.],\n",
            "        [1., 1., 1., 1.]])\n",
            "tensor_rand_un : tensor([[0.3012, 0.0038, 0.9922, 0.7182, 0.2720],\n",
            "        [0.8498, 0.9267, 0.6300, 0.3709, 0.5736],\n",
            "        [0.6858, 0.4122, 0.5630, 0.1966, 0.3831],\n",
            "        [0.0122, 0.3687, 0.3619, 0.5802, 0.0640]])\n",
            "tensor_rand_norm : tensor([[ 0.3566,  0.3202,  1.9221, -0.0897, -0.9211],\n",
            "        [ 0.3107, -0.1621, -0.0525,  0.3163, -0.2904],\n",
            "        [-0.2032, -1.6684, -1.6292, -0.3552,  0.0025],\n",
            "        [-0.7302,  0.5101, -0.4666, -0.5599,  2.0878]])\n",
            "tensor_rand_int : tensor([[8, 9, 8, 8, 6],\n",
            "        [9, 9, 7, 5, 7],\n",
            "        [9, 9, 6, 8, 6],\n",
            "        [9, 7, 5, 7, 8]])\n",
            "tensor([[1, 1, 1, 1, 1],\n",
            "        [1, 1, 1, 1, 1],\n",
            "        [1, 1, 1, 1, 1],\n",
            "        [1, 1, 1, 1, 1]])\n"
          ]
        }
      ]
    },
    {
      "cell_type": "markdown",
      "source": [
        "\n",
        "Tensor attributes\n",
        "\n",
        "knowing device location, datatype, dimension, and rank is very important\n"
      ],
      "metadata": {
        "id": "pJpTZOHk8apa"
      }
    },
    {
      "source": [
        "import torch # Imports the PyTorch library, which is essential for working with tensors.\n",
        "\n",
        "first_tensor = torch.tensor([1,2,3,4,5,6]) # Creates a PyTorch tensor named 'first_tensor' with the given values.\n",
        "\n",
        "print(first_tensor.device) # Prints the device where the tensor is stored.\n",
        "\n",
        "print(first_tensor.shape) # Prints the shape of the tensor.\n",
        "\n",
        "print(first_tensor.ndim) # Prints the number of dimensions (rank) of the tensor.\n",
        "\n",
        "second_tensor = torch.tensor([[1,2,3],[4,5,6],[7,8,9]]) # Creates another PyTorch tensor, this time with a 2-dimensional structure.\n",
        "\n",
        "print(second_tensor.dtype) # Prints the data type of the tensor's elements.\n",
        "\n",
        "print(second_tensor.shape) # Prints the shape of the tensor.\n",
        "\n",
        "print(second_tensor.ndim) # Prints the number of dimensions (rank) of the tensor."
      ],
      "cell_type": "code",
      "metadata": {
        "colab": {
          "base_uri": "https://localhost:8080/"
        },
        "id": "nRaB3jB9_wEq",
        "outputId": "5055102f-d7fb-4843-8685-accaaee8f984"
      },
      "execution_count": null,
      "outputs": [
        {
          "output_type": "stream",
          "name": "stdout",
          "text": [
            "cpu\n",
            "torch.Size([6])\n",
            "1\n",
            "torch.int64\n",
            "torch.Size([3, 3])\n",
            "2\n"
          ]
        }
      ]
    }
  ]
}